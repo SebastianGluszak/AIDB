{
 "cells": [
  {
   "cell_type": "code",
   "execution_count": 1,
   "metadata": {},
   "outputs": [],
   "source": [
    "from database import AIDB\n",
    "from models import detect_cars, detect_color\n",
    "import json\n",
    "import glob\n",
    "import re\n",
    "import timeit"
   ]
  },
  {
   "cell_type": "code",
   "execution_count": 2,
   "metadata": {},
   "outputs": [],
   "source": [
    "# Load in config file\n",
    "config_file = 'config.json'\n",
    "with open(config_file, 'r') as file:\n",
    "    config = json.load(file)"
   ]
  },
  {
   "cell_type": "code",
   "execution_count": 3,
   "metadata": {},
   "outputs": [],
   "source": [
    "# Load in base table data\n",
    "base_data = [\n",
    "    {\n",
    "        \"tablename\": \"traffic_table\",\n",
    "        \"data\": []\n",
    "    }\n",
    "]\n",
    "\n",
    "traffic_images = glob.glob(\"images/*\")\n",
    "traffic_images.sort()\n",
    "number_pattern = re.compile(r'\\d+')\n",
    "\n",
    "for traffic_image in traffic_images:\n",
    "    image_id = int(number_pattern.findall(traffic_image)[0])\n",
    "    base_data[0][\"data\"].append({\"image_id\": image_id})"
   ]
  },
  {
   "cell_type": "code",
   "execution_count": 4,
   "metadata": {},
   "outputs": [],
   "source": [
    "# Load in ML model functions\n",
    "model_api = {\"car_detection\": detect_cars, \"color_detection\": detect_color}"
   ]
  },
  {
   "cell_type": "code",
   "execution_count": 5,
   "metadata": {},
   "outputs": [],
   "source": [
    "# Construct AIDB\n",
    "aidb = AIDB(config, base_data, model_api)"
   ]
  },
  {
   "cell_type": "code",
   "execution_count": 6,
   "metadata": {},
   "outputs": [
    {
     "name": "stdout",
     "output_type": "stream",
     "text": [
      "(0.5148545998496852, 0.5837672659755218)\n"
     ]
    }
   ],
   "source": [
    "# Example approximate average query\n",
    "approximate_query_time = timeit.timeit(stmt = lambda: print(aidb.approximate_average('car_table.min_x', 20)), number  = 1)"
   ]
  },
  {
   "cell_type": "code",
   "execution_count": 7,
   "metadata": {},
   "outputs": [
    {
     "name": "stdout",
     "output_type": "stream",
     "text": [
      "[(922,), (935,), (1193,), (920,), (922,), (935,), (1193,), (920,), (1193,), (920,), (922,), (935,), (1014,), (1070,), (1076,), (1077,), (1085,), (1086,), (1087,), (11,), (1109,), (1114,), (1115,), (1120,), (1124,), (113,), (1177,), (1193,), (1207,), (13,), (131,), (1319,), (1320,), (14,), (15,), (18,), (2,), (267,), (3,), (331,), (332,), (339,), (340,), (36,), (37,), (38,), (393,), (443,), (463,), (481,), (483,), (483,), (484,), (485,), (486,), (487,), (489,), (489,), (491,), (537,), (546,), (552,), (562,), (568,), (679,), (68,), (69,), (7,), (717,), (718,), (719,), (720,), (721,), (722,), (726,), (727,), (731,), (733,), (811,), (812,), (814,), (858,), (907,), (916,), (919,), (920,), (922,), (926,), (927,), (928,), (932,), (933,), (933,), (935,), (945,), (949,), (951,), (965,), (972,), (980,), (980,), (99,)]\n"
     ]
    }
   ],
   "source": [
    "# Example exact query\n",
    "exact_query_time = timeit.timeit(stmt = lambda: print(aidb.query('SELECT color_table.image_id FROM color_table WHERE color_table.color == \"cyan\"').all()), number = 1)"
   ]
  },
  {
   "cell_type": "code",
   "execution_count": 8,
   "metadata": {},
   "outputs": [
    {
     "name": "stdout",
     "output_type": "stream",
     "text": [
      "[(868,), (869,), (1018,), (1032,), (1185,), (1186,), (1192,), (1193,), (48,), (49,), (60,), (61,), (74,), (854,), (855,), (882,), (883,), (868,), (869,), (1018,), (1032,), (1185,), (1186,), (1192,), (1193,), (48,), (49,), (60,), (61,), (74,), (854,), (855,), (882,), (883,), (1061,), (421,), (1018,), (1032,), (1185,), (1186,), (1192,), (1193,), (48,), (49,), (60,), (61,), (74,), (854,), (855,), (868,), (869,), (882,), (883,), (1017,), (1018,), (1020,), (1021,), (1032,), (1033,), (1043,), (1045,), (1047,), (1048,), (1052,), (1053,), (1054,), (1055,), (1060,), (1062,), (1063,), (1064,), (1065,), (1073,), (1074,), (1087,), (1088,), (1089,), (1114,), (1115,), (1184,), (1185,), (1186,), (1188,), (1192,), (1193,), (1200,), (1202,), (1211,), (1215,), (1216,), (1219,), (156,), (178,), (197,), (198,), (27,), (36,), (362,), (37,), (38,), (385,), (386,), (387,), (388,), (39,), (390,), (391,), (392,), (394,), (395,), (396,), (397,), (398,), (399,), (40,), (400,), (401,), (402,), (403,), (404,), (405,), (406,), (407,), (408,), (41,), (410,), (411,), (412,), (413,), (414,), (415,), (416,), (417,), (418,), (419,), (42,), (420,), (422,), (423,), (424,), (425,), (426,), (427,), (428,), (429,), (43,), (430,), (431,), (432,), (433,), (434,), (435,), (436,), (437,), (438,), (439,), (44,), (440,), (441,), (442,), (443,), (444,), (445,), (446,), (447,), (448,), (449,), (45,), (450,), (451,), (452,), (453,), (454,), (46,), (47,), (48,), (49,), (50,), (51,), (52,), (520,), (525,), (526,), (527,), (528,), (529,), (53,), (530,), (531,), (532,), (533,), (534,), (535,), (54,), (55,), (56,), (57,), (570,), (58,), (59,), (597,), (60,), (61,), (62,), (63,), (64,), (65,), (66,), (67,), (69,), (70,), (725,), (73,), (731,), (74,), (748,), (839,), (853,), (854,), (855,), (856,), (857,), (859,), (860,), (861,), (862,), (863,), (864,), (865,), (867,), (868,), (869,), (870,), (871,), (872,), (873,), (874,), (875,), (876,), (877,), (878,), (879,), (880,), (881,), (882,), (883,), (884,), (885,), (886,), (887,), (888,), (975,), (976,)]\n"
     ]
    }
   ],
   "source": [
    "# Example exact query with cached results from previous queries\n",
    "cached_query_time = timeit.timeit(stmt = lambda: print(aidb.query('SELECT color_table.image_id FROM color_table WHERE color_table.color == \"red\"').all()), number = 1)"
   ]
  },
  {
   "cell_type": "code",
   "execution_count": 9,
   "metadata": {},
   "outputs": [
    {
     "name": "stdout",
     "output_type": "stream",
     "text": [
      "Approximate query time: 3.7970047080000313\n",
      "Exact query time: 1753.4516292919998\n",
      "Cached query time: 0.0386486249999507\n"
     ]
    }
   ],
   "source": [
    "# Query time results\n",
    "print(f\"Approximate query time: {approximate_query_time}\")\n",
    "print(f\"Exact query time: {exact_query_time}\")\n",
    "print(f\"Cached query time: {cached_query_time}\")"
   ]
  }
 ],
 "metadata": {
  "kernelspec": {
   "display_name": "base",
   "language": "python",
   "name": "python3"
  },
  "language_info": {
   "codemirror_mode": {
    "name": "ipython",
    "version": 3
   },
   "file_extension": ".py",
   "mimetype": "text/x-python",
   "name": "python",
   "nbconvert_exporter": "python",
   "pygments_lexer": "ipython3",
   "version": "3.9.7"
  }
 },
 "nbformat": 4,
 "nbformat_minor": 2
}
