{
 "cells": [
  {
   "cell_type": "code",
   "execution_count": null,
   "metadata": {},
   "outputs": [],
   "source": [
    "from database import AIDB\n",
    "from models import detect_cars, detect_color\n",
    "import json\n",
    "import glob\n",
    "import re"
   ]
  },
  {
   "cell_type": "code",
   "execution_count": null,
   "metadata": {},
   "outputs": [],
   "source": [
    "# Load in config file\n",
    "config_file = 'config.json'\n",
    "with open(config_file, 'r') as file:\n",
    "    config = json.load(file)"
   ]
  },
  {
   "cell_type": "code",
   "execution_count": null,
   "metadata": {},
   "outputs": [],
   "source": [
    "# Load in base table data\n",
    "base_data = [\n",
    "    {\n",
    "        \"tablename\": \"traffic_table\",\n",
    "        \"data\": []\n",
    "    }\n",
    "]\n",
    "\n",
    "traffic_images = glob.glob(\"images/*\")\n",
    "traffic_images.sort()\n",
    "number_pattern = re.compile(r'\\d+')\n",
    "\n",
    "for traffic_image in traffic_images:\n",
    "    image_id = int(number_pattern.findall(traffic_image)[0])\n",
    "    base_data[0][\"data\"].append({\"image_id\": image_id})"
   ]
  },
  {
   "cell_type": "code",
   "execution_count": null,
   "metadata": {},
   "outputs": [],
   "source": [
    "# Load in ML model functions\n",
    "model_api = {\"car_detection\": detect_cars, \"color_detection\": detect_color}"
   ]
  },
  {
   "cell_type": "code",
   "execution_count": null,
   "metadata": {},
   "outputs": [],
   "source": [
    "# Construct AIDB\n",
    "aidb = AIDB(config, base_data, model_api)"
   ]
  },
  {
   "cell_type": "code",
   "execution_count": null,
   "metadata": {},
   "outputs": [],
   "source": [
    "aidb.query(\"SELECT color_table.car_id FROM color_table WHERE color_table.color == 'red'\").all()"
   ]
  },
  {
   "cell_type": "code",
   "execution_count": null,
   "metadata": {},
   "outputs": [],
   "source": [
    "aidb.query(\"SELECT color_table.car_id FROM color_table WHERE color_table.color == 'blue'\").all()"
   ]
  }
 ],
 "metadata": {
  "kernelspec": {
   "display_name": "base",
   "language": "python",
   "name": "python3"
  },
  "language_info": {
   "codemirror_mode": {
    "name": "ipython",
    "version": 3
   },
   "file_extension": ".py",
   "mimetype": "text/x-python",
   "name": "python",
   "nbconvert_exporter": "python",
   "pygments_lexer": "ipython3",
   "version": "3.9.7"
  }
 },
 "nbformat": 4,
 "nbformat_minor": 2
}
